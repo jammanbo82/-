{
 "cells": [
  {
   "cell_type": "code",
   "execution_count": 2,
   "metadata": {},
   "outputs": [
    {
     "name": "stdout",
     "output_type": "stream",
     "text": [
      "[1, 2, 3]\n",
      "1 2 3\n"
     ]
    }
   ],
   "source": [
    "t=[1,2,3]\n",
    "a,b,c=t\n",
    "print(t)\n",
    "print(a,b,c)"
   ]
  },
  {
   "cell_type": "code",
   "execution_count": 7,
   "metadata": {},
   "outputs": [
    {
     "name": "stdout",
     "output_type": "stream",
     "text": [
      "600\n",
      "200\n"
     ]
    }
   ],
   "source": [
    "def cal_rec(x,y):\n",
    "    z=x*y\n",
    "    return z\n",
    "\n",
    "print(cal_rec(20,30))\n",
    "a=10\n",
    "b=20\n",
    "k=cal_rec(a,b)\n",
    "print(k)"
   ]
  },
  {
   "cell_type": "code",
   "execution_count": 13,
   "metadata": {},
   "outputs": [
    {
     "name": "stdout",
     "output_type": "stream",
     "text": [
      "inside 10\n",
      "200\n",
      "50\n"
     ]
    }
   ],
   "source": [
    "def cal_rec2(x,y):\n",
    "    print(\"inside\",x)\n",
    "    print(x*y)\n",
    "    \n",
    "x=50\n",
    "a=10\n",
    "b=20\n",
    "cal_rec2(a,b)\n",
    "print(x)"
   ]
  },
  {
   "cell_type": "code",
   "execution_count": 14,
   "metadata": {},
   "outputs": [
    {
     "name": "stdout",
     "output_type": "stream",
     "text": [
      "[0, 2, 1]\n",
      "[2, 3]\n",
      "[0, 2, 1]\n"
     ]
    }
   ],
   "source": [
    "def spam(x1):\n",
    "    x1.append(1)\n",
    "    print(x1)\n",
    "    x1=[2,3]\n",
    "    print(x1)\n",
    "    \n",
    "y1=[0,2]\n",
    "spam(y1)\n",
    "print(y1)"
   ]
  },
  {
   "cell_type": "code",
   "execution_count": 2,
   "metadata": {},
   "outputs": [
    {
     "name": "stdout",
     "output_type": "stream",
     "text": [
      "8\n"
     ]
    }
   ],
   "source": [
    "a = 5\n",
    "b = 3\n",
    "c = a+b\n",
    "print(c)"
   ]
  }
 ],
 "metadata": {
  "kernelspec": {
   "display_name": "Python 3",
   "language": "python",
   "name": "python3"
  },
  "language_info": {
   "codemirror_mode": {
    "name": "ipython",
    "version": 3
   },
   "file_extension": ".py",
   "mimetype": "text/x-python",
   "name": "python",
   "nbconvert_exporter": "python",
   "pygments_lexer": "ipython3",
   "version": "3.7.3"
  }
 },
 "nbformat": 4,
 "nbformat_minor": 2
}
